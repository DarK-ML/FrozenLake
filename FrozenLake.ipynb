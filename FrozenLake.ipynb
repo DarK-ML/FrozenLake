{
  "nbformat": 4,
  "nbformat_minor": 0,
  "metadata": {
    "colab": {
      "name": "FrozenLake.ipynb",
      "provenance": [],
      "collapsed_sections": [],
      "include_colab_link": true
    },
    "kernelspec": {
      "name": "python3",
      "display_name": "Python 3"
    }
  },
  "cells": [
    {
      "cell_type": "markdown",
      "metadata": {
        "id": "view-in-github",
        "colab_type": "text"
      },
      "source": [
        "<a href=\"https://colab.research.google.com/github/DarK-ML/FrozenLake/blob/master/FrozenLake.ipynb\" target=\"_parent\"><img src=\"https://colab.research.google.com/assets/colab-badge.svg\" alt=\"Open In Colab\"/></a>"
      ]
    },
    {
      "cell_type": "code",
      "metadata": {
        "id": "KZ0Hcrrt2aIx",
        "colab_type": "code",
        "colab": {}
      },
      "source": [
        "import numpy as np\n",
        "import gym\n",
        "import random\n",
        "import time\n",
        "from IPython.display import clear_output\n",
        "\n",
        "env = gym.make(\"FrozenLake-v0\")\n",
        "\n",
        "action_size = env.action_space.n\n",
        "state_size = env.observation_space.n\n",
        "q_table = np.zeros((state_size, action_size))"
      ],
      "execution_count": 0,
      "outputs": []
    },
    {
      "cell_type": "code",
      "metadata": {
        "id": "kwjmOqzz2bYU",
        "colab_type": "code",
        "outputId": "0b135bc4-778c-4718-cbcd-581c08066203",
        "colab": {
          "base_uri": "https://localhost:8080/",
          "height": 286
        }
      },
      "source": [
        "print(q_table)"
      ],
      "execution_count": 0,
      "outputs": [
        {
          "output_type": "stream",
          "text": [
            "[[0. 0. 0. 0.]\n",
            " [0. 0. 0. 0.]\n",
            " [0. 0. 0. 0.]\n",
            " [0. 0. 0. 0.]\n",
            " [0. 0. 0. 0.]\n",
            " [0. 0. 0. 0.]\n",
            " [0. 0. 0. 0.]\n",
            " [0. 0. 0. 0.]\n",
            " [0. 0. 0. 0.]\n",
            " [0. 0. 0. 0.]\n",
            " [0. 0. 0. 0.]\n",
            " [0. 0. 0. 0.]\n",
            " [0. 0. 0. 0.]\n",
            " [0. 0. 0. 0.]\n",
            " [0. 0. 0. 0.]\n",
            " [0. 0. 0. 0.]]\n"
          ],
          "name": "stdout"
        }
      ]
    },
    {
      "cell_type": "code",
      "metadata": {
        "id": "tF6RrYYz2dbH",
        "colab_type": "code",
        "colab": {}
      },
      "source": [
        "num_episodes = 10000\n",
        "max_steps_per_episode = 100\n",
        "learning_rate = 0.1\n",
        "discount_rate = 0.99\n",
        "exploration_rate = 1\n",
        "max_exploration_rate = 1\n",
        "min_exploration_rate = 0.01\n",
        "exploration_decay_rate = 0.001"
      ],
      "execution_count": 0,
      "outputs": []
    },
    {
      "cell_type": "code",
      "metadata": {
        "id": "B4CB2av52feI",
        "colab_type": "code",
        "colab": {}
      },
      "source": [
        "rewards_all_episodes = []\n",
        "for episode in range(num_episodes):\n",
        "    state = env.reset()\n",
        "    done = False\n",
        "    rewards_current_episode = 0\n",
        "\n",
        "    for step in range(max_steps_per_episode): \n",
        "        # Exploration-exploitation trade-off\n",
        "        exploration_rate_threshold = random.uniform(0, 1)\n",
        "        if exploration_rate_threshold > exploration_rate:\n",
        "            action = np.argmax(q_table[state,:]) \n",
        "        else:\n",
        "            action = env.action_space.sample()\n",
        "        new_state, reward, done, info = env.step(action)\n",
        "        q_table[state, action] = q_table[state, action] * (1 - learning_rate) + \\\n",
        "             learning_rate * (reward + discount_rate * np.max(q_table[new_state, :]))\n",
        "        state = new_state\n",
        "        rewards_current_episode += reward \n",
        "        if done == True: \n",
        "            break\n",
        "    exploration_rate = min_exploration_rate + \\\n",
        "       (max_exploration_rate - min_exploration_rate) * np.exp(-exploration_decay_rate*episode)\n",
        "    rewards_all_episodes.append(rewards_current_episode)\n",
        "\n",
        "\n",
        "\n"
      ],
      "execution_count": 0,
      "outputs": []
    },
    {
      "cell_type": "code",
      "metadata": {
        "id": "ksG9eZDO2hPK",
        "colab_type": "code",
        "outputId": "a01484a4-5ef4-4dc2-93d1-bcc14cb57116",
        "colab": {
          "base_uri": "https://localhost:8080/",
          "height": 554
        }
      },
      "source": [
        "# Calculate and print the average reward per thousand episodes\n",
        "rewards_per_thosand_episodes = np.split(np.array(rewards_all_episodes),num_episodes/1000)\n",
        "count = 1000\n",
        "\n",
        "print(\"********Average reward per thousand episodes********\\n\")\n",
        "for r in rewards_per_thosand_episodes:\n",
        "    print(count, \": \", str(sum(r/1000)))\n",
        "    count += 1000\n",
        "# Print updated Q-table\n",
        "print(\"\\n\\n********Q-table********\\n\")\n",
        "print(q_table)\n"
      ],
      "execution_count": 0,
      "outputs": [
        {
          "output_type": "stream",
          "text": [
            "********Average reward per thousand episodes********\n",
            "\n",
            "1000 :  0.05200000000000004\n",
            "2000 :  0.21100000000000016\n",
            "3000 :  0.4310000000000003\n",
            "4000 :  0.5560000000000004\n",
            "5000 :  0.6100000000000004\n",
            "6000 :  0.6780000000000005\n",
            "7000 :  0.6940000000000005\n",
            "8000 :  0.6600000000000005\n",
            "9000 :  0.6990000000000005\n",
            "10000 :  0.6760000000000005\n",
            "\n",
            "\n",
            "********Q-table********\n",
            "\n",
            "[[0.53469274 0.51358941 0.51960043 0.52074033]\n",
            " [0.44863903 0.31519838 0.35628077 0.52428228]\n",
            " [0.40160822 0.43210275 0.39916813 0.47925701]\n",
            " [0.26559566 0.31368232 0.26289591 0.453912  ]\n",
            " [0.55805124 0.34312946 0.37712853 0.1775248 ]\n",
            " [0.         0.         0.         0.        ]\n",
            " [0.19655723 0.12327127 0.28506888 0.07455797]\n",
            " [0.         0.         0.         0.        ]\n",
            " [0.35235899 0.39345084 0.34701063 0.58017749]\n",
            " [0.31131648 0.64223886 0.49479964 0.38336465]\n",
            " [0.53997251 0.41841804 0.47105895 0.31102145]\n",
            " [0.         0.         0.         0.        ]\n",
            " [0.         0.         0.         0.        ]\n",
            " [0.48448801 0.55679335 0.77808297 0.52035366]\n",
            " [0.73307651 0.90486231 0.71795862 0.78389148]\n",
            " [0.         0.         0.         0.        ]]\n"
          ],
          "name": "stdout"
        }
      ]
    },
    {
      "cell_type": "code",
      "metadata": {
        "id": "Q8sEbHh52i8n",
        "colab_type": "code",
        "outputId": "d1f4da77-184c-4f20-8e7b-6d2202557530",
        "colab": {
          "base_uri": "https://localhost:8080/",
          "height": 118
        }
      },
      "source": [
        "for episode in range(2):\n",
        "    state = env.reset()\n",
        "    done = False\n",
        "    print(\"*****EPISODE \", episode+1, \"*****\\n\\n\\n\\n\")\n",
        "    time.sleep(1)\n",
        "    for step in range(max_steps_per_episode):        \n",
        "        clear_output(wait=True)\n",
        "        env.render()\n",
        "        time.sleep(1)\n",
        "        \n",
        "        action = np.argmax(q_table[state,:])        \n",
        "        new_state, reward, done, info = env.step(action)\n",
        "\n",
        "        if done:\n",
        "            clear_output(wait=True)\n",
        "            env.render()\n",
        "            \n",
        "            if reward == 1:\n",
        "                print(\"****You reached the goal!****\")\n",
        "                time.sleep(3)\n",
        "            else:\n",
        "                print(\"****You fell through a hole!****\")\n",
        "                time.sleep(3)\n",
        "                clear_output(wait=True)\n",
        "            break\n",
        "        state = new_state\n",
        "env.close()"
      ],
      "execution_count": 0,
      "outputs": [
        {
          "output_type": "stream",
          "text": [
            "  (Down)\n",
            "SFFF\n",
            "FHFH\n",
            "FFFH\n",
            "HFF\u001b[41mG\u001b[0m\n",
            "****You reached the goal!****\n"
          ],
          "name": "stdout"
        }
      ]
    },
    {
      "cell_type": "code",
      "metadata": {
        "id": "_QZUlSGK2lIw",
        "colab_type": "code",
        "colab": {}
      },
      "source": [
        ""
      ],
      "execution_count": 0,
      "outputs": []
    }
  ]
}